{
 "cells": [
  {
   "cell_type": "markdown",
   "metadata": {},
   "source": [
    "# Deep Learning Sessions Lisboa\n",
    "\n",
    "Code used in the examples."
   ]
  },
  {
   "cell_type": "markdown",
   "metadata": {},
   "source": [
    "## 1. Example definition\n",
    "\n",
    "This is the 9-state scenario used in the examples."
   ]
  },
  {
   "cell_type": "code",
   "execution_count": 1,
   "metadata": {
    "ExecuteTime": {
     "end_time": "2021-05-05T10:44:54.844925Z",
     "start_time": "2021-05-05T10:44:54.562134Z"
    }
   },
   "outputs": [],
   "source": [
    "import numpy as np\n",
    "from tqdm import trange \n",
    "\n",
    "S = ('1', '2', '3', '4', '5', '6', '7', '8', '9')\n",
    "A = ('Up', 'Down', 'Left', 'Right', 'Stay')\n",
    "\n",
    "#                 1   2   3   4   5   6   7   8   9                \n",
    "Pup = np.array([[1., 0., 0., 0., 0., 0., 0., 0., 0.],  # 1\n",
    "                [0., 1., 0., 0., 0., 0., 0., 0., 0.],  # 2\n",
    "                [0., 0., 1., 0., 0., 0., 0., 0., 0.],  # 3\n",
    "                [.9, 0., 0., .1, 0., 0., 0., 0., 0.],  # 4\n",
    "                [0., .9, 0., 0., .1, 0., 0., 0., 0.],  # 5\n",
    "                [0., 0., .9, 0., 0., .1, 0., 0., 0.],  # 6\n",
    "                [0., 0., 0., .9, 0., 0., .1, 0., 0.],  # 7\n",
    "                [0., 0., 0., 0., .9, 0., 0., .1, 0.],  # 8\n",
    "                [0., 0., 0., 0., 0., .9, 0., 0., .1]]) # 9\n",
    "\n",
    "#                   1   2   3   4   5   6   7   8   9                \n",
    "Pdown = np.array([[.1, 0., 0., .9, 0., 0., 0., 0., 0.],  # 1\n",
    "                  [0., .1, 0., 0., .9, 0., 0., 0., 0.],  # 2\n",
    "                  [0., 0., .1, 0., 0., .9, 0., 0., 0.],  # 3\n",
    "                  [0., 0., 0., .1, 0., 0., .9, 0., 0.],  # 4\n",
    "                  [0., 0., 0., 0., .1, 0., 0., .9, 0.],  # 5\n",
    "                  [0., 0., 0., 0., 0., .1, 0., 0., .9],  # 6\n",
    "                  [0., 0., 0., 0., 0., 0., 1., 0., 0.],  # 7\n",
    "                  [0., 0., 0., 0., 0., 0., 0., 1., 0.],  # 8\n",
    "                  [0., 0., 0., 0., 0., 0., 0., 0., 1.]]) # 9\n",
    "\n",
    "#                   1   2   3   4   5   6   7   8   9                \n",
    "Pleft = np.array([[1., 0., 0., 0., 0., 0., 0., 0., 0.],  # 1\n",
    "                  [.9, .1, 0., 0., 0., 0., 0., 0., 0.],  # 2\n",
    "                  [0., .9, .1, 0., 0., 0., 0., 0., 0.],  # 3\n",
    "                  [0., 0., 0., 1., 0., 0., 0., 0., 0.],  # 4\n",
    "                  [0., 0., 0., .9, .1, 0., 0., 0., 0.],  # 5\n",
    "                  [0., 0., 0., 0., .9, .1, 0., 0., 0.],  # 6\n",
    "                  [0., 0., 0., 0., 0., 0., 1., 0., 0.],  # 7\n",
    "                  [0., 0., 0., 0., 0., 0., .9, .1, 0.],  # 8\n",
    "                  [0., 0., 0., 0., 0., 0., 0., .9, .1]]) # 9\n",
    "\n",
    "#                    1   2   3   4   5   6   7   8   9                \n",
    "Pright = np.array([[.1, .9, 0., 0., 0., 0., 0., 0., 0.],  # 1\n",
    "                   [0., .1, .9, 0., 0., 0., 0., 0., 0.],  # 2\n",
    "                   [0., 0., 1., 0., 0., 0., 0., 0., 0.],  # 3\n",
    "                   [0., 0., 0., .1, .9, 0., 0., 0., 0.],  # 4\n",
    "                   [0., 0., 0., 0., .1, .9, 0., 0., 0.],  # 5\n",
    "                   [0., 0., 0., 0., 0., 1., 0., 0., 0.],  # 6\n",
    "                   [0., 0., 0., 0., 0., 0., .1, .9, 0.],  # 7\n",
    "                   [0., 0., 0., 0., 0., 0., 0., .1, .9],  # 8\n",
    "                   [0., 0., 0., 0., 0., 0., 0., 0., 1.]]) # 9\n",
    "\n",
    "#                   1   2   3   4   5   6   7   8   9                \n",
    "Pstay = np.array([[1., 0., 0., 0., 0., 0., 0., 0., 0.],  # 1\n",
    "                  [0., 1., 0., 0., 0., 0., 0., 0., 0.],  # 2\n",
    "                  [0., 0., 1., 0., 0., 0., 0., 0., 0.],  # 3\n",
    "                  [0., 0., 0., 1., 0., 0., 0., 0., 0.],  # 4\n",
    "                  [0., 0., 0., 0., 1., 0., 0., 0., 0.],  # 5\n",
    "                  [0., 0., 0., 0., 0., 1., 0., 0., 0.],  # 6\n",
    "                  [0., 0., 0., 0., 0., 0., 1., 0., 0.],  # 7\n",
    "                  [0., 0., 0., 0., 0., 0., 0., 1., 0.],  # 8\n",
    "                  [0., 0., 0., 0., 0., 0., 0., 0., 1.]]) # 9\n",
    "\n",
    "P = (Pup, Pdown, Pleft, Pright, Pstay)\n",
    "\n",
    "#              U   D   L   R   S\n",
    "r = np.array([[-.1, -.1, -.1, -.1, 0.],  # 1\n",
    "              [-.1, -.1, -.1, -.1, 0.],  # 2\n",
    "              [4.9, 4.9, 4.9, 4.9, 5.],  # 3\n",
    "              [-.1, -.1, -.1, -.1, 0.],  # 4\n",
    "              [-.1, -.1, -.1, -.1, 0.],  # 5\n",
    "              [-.1, -.1, -.1, -.1, 0.],  # 6\n",
    "              [0.9, 0.9, 0.9, 0.9, 1.],  # 7\n",
    "              [-.1, -.1, -.1, -.1, 0.],  # 8\n",
    "              [-.1, -.1, -.1, -.1, 0.]]) # 9\n",
    "\n",
    "gamma = 0.9"
   ]
  },
  {
   "cell_type": "markdown",
   "metadata": {},
   "source": [
    "## 2. Compute \"q\" exactly"
   ]
  },
  {
   "cell_type": "code",
   "execution_count": 2,
   "metadata": {
    "ExecuteTime": {
     "end_time": "2021-05-05T10:44:54.863585Z",
     "start_time": "2021-05-05T10:44:54.847663Z"
    }
   },
   "outputs": [
    {
     "name": "stdout",
     "output_type": "stream",
     "text": [
      "[[ 3.16  2.93  3.16  5.6   3.26]\n",
      " [ 5.88  3.91  3.43 14.01  5.98]\n",
      " [19.91 11.78 11.78 19.91 20.01]\n",
      " [ 3.13  4.02  2.9   3.61  3.  ]\n",
      " [ 5.66  2.98  2.98  5.66  3.79]\n",
      " [14.01  3.43  3.91  5.88  5.98]\n",
      " [ 4.02  5.15  5.15  4.02  5.25]\n",
      " [ 3.61  2.9   4.02  3.13  3.  ]\n",
      " [ 5.6   3.16  2.93  3.16  3.26]]\n"
     ]
    }
   ],
   "source": [
    "qrand = np.zeros((len(S), len(A)))\n",
    "\n",
    "quit = False\n",
    "\n",
    "while not quit:\n",
    "    qnew = np.zeros((len(S), len(A)))\n",
    "    vnew = np.mean(qrand, axis=1, keepdims=True)\n",
    "    \n",
    "    for a in range(len(A)):\n",
    "        qnew[:, a, None] = r[:, a, None] + gamma * P[a].dot(vnew)\n",
    "        \n",
    "    if np.linalg.norm(qnew - qrand) < 1e-8:\n",
    "        quit = True\n",
    "        \n",
    "    qrand = qnew\n",
    "    \n",
    "print(np.round(qrand, 2))"
   ]
  },
  {
   "cell_type": "code",
   "execution_count": 3,
   "metadata": {
    "ExecuteTime": {
     "end_time": "2021-05-05T10:44:54.883726Z",
     "start_time": "2021-05-05T10:44:54.866838Z"
    }
   },
   "outputs": [
    {
     "name": "stdout",
     "output_type": "stream",
     "text": [
      "[[35.37 31.77 35.37 39.41 35.47]\n",
      " [39.86 35.82 35.82 44.4  39.96]\n",
      " [49.9  45.36 45.36 49.9  50.  ]\n",
      " [34.97 29.06 31.37 34.97 31.47]\n",
      " [39.41 31.77 31.77 39.41 35.47]\n",
      " [44.4  35.82 35.82 39.86 39.96]\n",
      " [32.11 29.8  29.8  32.11 29.9 ]\n",
      " [34.97 31.37 29.06 34.97 31.47]\n",
      " [39.41 35.37 31.77 35.37 35.47]]\n"
     ]
    }
   ],
   "source": [
    "qopt = np.zeros((len(S), len(A)))\n",
    "\n",
    "quit = False\n",
    "\n",
    "while not quit:\n",
    "    qnew = np.zeros((len(S), len(A)))\n",
    "    vnew = np.max(qopt, axis=1, keepdims=True)\n",
    "    \n",
    "    for a in range(len(A)):\n",
    "        qnew[:, a, None] = r[:, a, None] + gamma * P[a].dot(vnew)\n",
    "        \n",
    "    if np.linalg.norm(qnew - qopt) < 1e-8:\n",
    "        quit = True\n",
    "        \n",
    "    qopt = qnew\n",
    "    \n",
    "print(np.round(qopt, 2))"
   ]
  },
  {
   "cell_type": "markdown",
   "metadata": {},
   "source": [
    "## 3. Compute \"q\" using QL"
   ]
  },
  {
   "cell_type": "code",
   "execution_count": 4,
   "metadata": {
    "ExecuteTime": {
     "end_time": "2021-05-05T10:44:55.149083Z",
     "start_time": "2021-05-05T10:44:54.886985Z"
    }
   },
   "outputs": [
    {
     "name": "stderr",
     "output_type": "stream",
     "text": [
      "100%|██████████| 5000/5000 [00:00<00:00, 20658.34it/s]"
     ]
    },
    {
     "name": "stdout",
     "output_type": "stream",
     "text": [
      "[[35.8 31.8 31.5 39.2 34.6]\n",
      " [39.  35.4 36.1 44.9 39.2]\n",
      " [49.9 45.6 45.3 49.9 50. ]\n",
      " [31.2 28.6 31.4 35.7 31.8]\n",
      " [39.8 31.  32.  40.  35.6]\n",
      " [44.9 34.4 35.9 39.2 39.4]\n",
      " [27.2 19.9 25.  32.7 25.1]\n",
      " [35.1 31.1 30.  31.  31.1]\n",
      " [39.9 29.5 29.9 29.3 27.4]]\n"
     ]
    },
    {
     "name": "stderr",
     "output_type": "stream",
     "text": [
      "\n"
     ]
    }
   ],
   "source": [
    "STEP = 0.5\n",
    "\n",
    "np.random.seed(42)\n",
    "\n",
    "q = np.zeros((len(S), len(A)))\n",
    "s = np.random.choice(len(S))\n",
    "\n",
    "for t in trange(5000):\n",
    "\n",
    "    # Select next action\n",
    "    if np.random.rand() < 0.5:\n",
    "        a = np.random.choice(len(A))\n",
    "    else:\n",
    "        a = np.argmax(q[s, :])\n",
    "    \n",
    "    # Sample next reward\n",
    "    rnew = r[s, a]\n",
    "    \n",
    "    # Sample next state\n",
    "    snew = np.random.choice(len(S), p=P[a][s, :])\n",
    "    q[s, a] = q[s, a] + STEP * (rnew + gamma * np.max(q[snew, :]) - q[s, a])\n",
    "    \n",
    "    s = snew\n",
    "    \n",
    "print(np.round(q, 1))"
   ]
  },
  {
   "cell_type": "code",
   "execution_count": null,
   "metadata": {},
   "outputs": [],
   "source": []
  }
 ],
 "metadata": {
  "kernelspec": {
   "display_name": "Python 3",
   "language": "python",
   "name": "python3"
  },
  "language_info": {
   "codemirror_mode": {
    "name": "ipython",
    "version": 3
   },
   "file_extension": ".py",
   "mimetype": "text/x-python",
   "name": "python",
   "nbconvert_exporter": "python",
   "pygments_lexer": "ipython3",
   "version": "3.7.4"
  },
  "latex_envs": {
   "LaTeX_envs_menu_present": true,
   "autoclose": false,
   "autocomplete": true,
   "bibliofile": "biblio.bib",
   "cite_by": "apalike",
   "current_citInitial": 1,
   "eqLabelWithNumbers": true,
   "eqNumInitial": 1,
   "hotkeys": {
    "equation": "Ctrl-E",
    "itemize": "Ctrl-I"
   },
   "labels_anchors": false,
   "latex_user_defs": false,
   "report_style_numbering": false,
   "user_envs_cfg": false
  }
 },
 "nbformat": 4,
 "nbformat_minor": 2
}
